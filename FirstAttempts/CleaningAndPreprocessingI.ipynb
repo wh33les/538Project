{
 "cells": [
  {
   "cell_type": "markdown",
   "id": "b279f162",
   "metadata": {},
   "source": [
    "# Cleaning and preprocessing I\n",
    "\n",
    "## Merging the two data files\n",
    "\n",
    "According to the codebook on [Kaggle](https://www.kaggle.com/datasets/thedevastator/mental-health-in-drug-users-during-covid-19), each respondent's identifier is given in the `hash` column of each data file.  First we load the translated data we saved in the ProblemStatement notebook."
   ]
  },
  {
   "cell_type": "code",
   "execution_count": 1,
   "id": "89b22e37",
   "metadata": {},
   "outputs": [
    {
     "ename": "FileNotFoundError",
     "evalue": "[Errno 2] No such file or directory: 'data/translated_data1.csv'",
     "output_type": "error",
     "traceback": [
      "\u001b[1;31m---------------------------------------------------------------------------\u001b[0m",
      "\u001b[1;31mFileNotFoundError\u001b[0m                         Traceback (most recent call last)",
      "Input \u001b[1;32mIn [1]\u001b[0m, in \u001b[0;36m<cell line: 5>\u001b[1;34m()\u001b[0m\n\u001b[0;32m      2\u001b[0m \u001b[38;5;28;01mimport\u001b[39;00m \u001b[38;5;21;01mpandas\u001b[39;00m \u001b[38;5;28;01mas\u001b[39;00m \u001b[38;5;21;01mpd\u001b[39;00m\n\u001b[0;32m      4\u001b[0m \u001b[38;5;66;03m# Load the first data set\u001b[39;00m\n\u001b[1;32m----> 5\u001b[0m data1 \u001b[38;5;241m=\u001b[39m \u001b[43mpd\u001b[49m\u001b[38;5;241;43m.\u001b[39;49m\u001b[43mread_csv\u001b[49m\u001b[43m(\u001b[49m\u001b[38;5;124;43m\"\u001b[39;49m\u001b[38;5;124;43mdata/translated_data1.csv\u001b[39;49m\u001b[38;5;124;43m\"\u001b[39;49m\u001b[43m)\u001b[49m\n\u001b[0;32m      7\u001b[0m \u001b[38;5;66;03m# Load the second data set\u001b[39;00m\n\u001b[0;32m      8\u001b[0m data2 \u001b[38;5;241m=\u001b[39m pd\u001b[38;5;241m.\u001b[39mread_csv(\u001b[38;5;124m\"\u001b[39m\u001b[38;5;124mdata/translated_data2.csv\u001b[39m\u001b[38;5;124m\"\u001b[39m)\n",
      "File \u001b[1;32m~\\anaconda3\\lib\\site-packages\\pandas\\util\\_decorators.py:311\u001b[0m, in \u001b[0;36mdeprecate_nonkeyword_arguments.<locals>.decorate.<locals>.wrapper\u001b[1;34m(*args, **kwargs)\u001b[0m\n\u001b[0;32m    305\u001b[0m \u001b[38;5;28;01mif\u001b[39;00m \u001b[38;5;28mlen\u001b[39m(args) \u001b[38;5;241m>\u001b[39m num_allow_args:\n\u001b[0;32m    306\u001b[0m     warnings\u001b[38;5;241m.\u001b[39mwarn(\n\u001b[0;32m    307\u001b[0m         msg\u001b[38;5;241m.\u001b[39mformat(arguments\u001b[38;5;241m=\u001b[39marguments),\n\u001b[0;32m    308\u001b[0m         \u001b[38;5;167;01mFutureWarning\u001b[39;00m,\n\u001b[0;32m    309\u001b[0m         stacklevel\u001b[38;5;241m=\u001b[39mstacklevel,\n\u001b[0;32m    310\u001b[0m     )\n\u001b[1;32m--> 311\u001b[0m \u001b[38;5;28;01mreturn\u001b[39;00m func(\u001b[38;5;241m*\u001b[39margs, \u001b[38;5;241m*\u001b[39m\u001b[38;5;241m*\u001b[39mkwargs)\n",
      "File \u001b[1;32m~\\anaconda3\\lib\\site-packages\\pandas\\io\\parsers\\readers.py:680\u001b[0m, in \u001b[0;36mread_csv\u001b[1;34m(filepath_or_buffer, sep, delimiter, header, names, index_col, usecols, squeeze, prefix, mangle_dupe_cols, dtype, engine, converters, true_values, false_values, skipinitialspace, skiprows, skipfooter, nrows, na_values, keep_default_na, na_filter, verbose, skip_blank_lines, parse_dates, infer_datetime_format, keep_date_col, date_parser, dayfirst, cache_dates, iterator, chunksize, compression, thousands, decimal, lineterminator, quotechar, quoting, doublequote, escapechar, comment, encoding, encoding_errors, dialect, error_bad_lines, warn_bad_lines, on_bad_lines, delim_whitespace, low_memory, memory_map, float_precision, storage_options)\u001b[0m\n\u001b[0;32m    665\u001b[0m kwds_defaults \u001b[38;5;241m=\u001b[39m _refine_defaults_read(\n\u001b[0;32m    666\u001b[0m     dialect,\n\u001b[0;32m    667\u001b[0m     delimiter,\n\u001b[1;32m   (...)\u001b[0m\n\u001b[0;32m    676\u001b[0m     defaults\u001b[38;5;241m=\u001b[39m{\u001b[38;5;124m\"\u001b[39m\u001b[38;5;124mdelimiter\u001b[39m\u001b[38;5;124m\"\u001b[39m: \u001b[38;5;124m\"\u001b[39m\u001b[38;5;124m,\u001b[39m\u001b[38;5;124m\"\u001b[39m},\n\u001b[0;32m    677\u001b[0m )\n\u001b[0;32m    678\u001b[0m kwds\u001b[38;5;241m.\u001b[39mupdate(kwds_defaults)\n\u001b[1;32m--> 680\u001b[0m \u001b[38;5;28;01mreturn\u001b[39;00m \u001b[43m_read\u001b[49m\u001b[43m(\u001b[49m\u001b[43mfilepath_or_buffer\u001b[49m\u001b[43m,\u001b[49m\u001b[43m \u001b[49m\u001b[43mkwds\u001b[49m\u001b[43m)\u001b[49m\n",
      "File \u001b[1;32m~\\anaconda3\\lib\\site-packages\\pandas\\io\\parsers\\readers.py:575\u001b[0m, in \u001b[0;36m_read\u001b[1;34m(filepath_or_buffer, kwds)\u001b[0m\n\u001b[0;32m    572\u001b[0m _validate_names(kwds\u001b[38;5;241m.\u001b[39mget(\u001b[38;5;124m\"\u001b[39m\u001b[38;5;124mnames\u001b[39m\u001b[38;5;124m\"\u001b[39m, \u001b[38;5;28;01mNone\u001b[39;00m))\n\u001b[0;32m    574\u001b[0m \u001b[38;5;66;03m# Create the parser.\u001b[39;00m\n\u001b[1;32m--> 575\u001b[0m parser \u001b[38;5;241m=\u001b[39m TextFileReader(filepath_or_buffer, \u001b[38;5;241m*\u001b[39m\u001b[38;5;241m*\u001b[39mkwds)\n\u001b[0;32m    577\u001b[0m \u001b[38;5;28;01mif\u001b[39;00m chunksize \u001b[38;5;129;01mor\u001b[39;00m iterator:\n\u001b[0;32m    578\u001b[0m     \u001b[38;5;28;01mreturn\u001b[39;00m parser\n",
      "File \u001b[1;32m~\\anaconda3\\lib\\site-packages\\pandas\\io\\parsers\\readers.py:933\u001b[0m, in \u001b[0;36mTextFileReader.__init__\u001b[1;34m(self, f, engine, **kwds)\u001b[0m\n\u001b[0;32m    930\u001b[0m     \u001b[38;5;28mself\u001b[39m\u001b[38;5;241m.\u001b[39moptions[\u001b[38;5;124m\"\u001b[39m\u001b[38;5;124mhas_index_names\u001b[39m\u001b[38;5;124m\"\u001b[39m] \u001b[38;5;241m=\u001b[39m kwds[\u001b[38;5;124m\"\u001b[39m\u001b[38;5;124mhas_index_names\u001b[39m\u001b[38;5;124m\"\u001b[39m]\n\u001b[0;32m    932\u001b[0m \u001b[38;5;28mself\u001b[39m\u001b[38;5;241m.\u001b[39mhandles: IOHandles \u001b[38;5;241m|\u001b[39m \u001b[38;5;28;01mNone\u001b[39;00m \u001b[38;5;241m=\u001b[39m \u001b[38;5;28;01mNone\u001b[39;00m\n\u001b[1;32m--> 933\u001b[0m \u001b[38;5;28mself\u001b[39m\u001b[38;5;241m.\u001b[39m_engine \u001b[38;5;241m=\u001b[39m \u001b[38;5;28;43mself\u001b[39;49m\u001b[38;5;241;43m.\u001b[39;49m\u001b[43m_make_engine\u001b[49m\u001b[43m(\u001b[49m\u001b[43mf\u001b[49m\u001b[43m,\u001b[49m\u001b[43m \u001b[49m\u001b[38;5;28;43mself\u001b[39;49m\u001b[38;5;241;43m.\u001b[39;49m\u001b[43mengine\u001b[49m\u001b[43m)\u001b[49m\n",
      "File \u001b[1;32m~\\anaconda3\\lib\\site-packages\\pandas\\io\\parsers\\readers.py:1217\u001b[0m, in \u001b[0;36mTextFileReader._make_engine\u001b[1;34m(self, f, engine)\u001b[0m\n\u001b[0;32m   1213\u001b[0m     mode \u001b[38;5;241m=\u001b[39m \u001b[38;5;124m\"\u001b[39m\u001b[38;5;124mrb\u001b[39m\u001b[38;5;124m\"\u001b[39m\n\u001b[0;32m   1214\u001b[0m \u001b[38;5;66;03m# error: No overload variant of \"get_handle\" matches argument types\u001b[39;00m\n\u001b[0;32m   1215\u001b[0m \u001b[38;5;66;03m# \"Union[str, PathLike[str], ReadCsvBuffer[bytes], ReadCsvBuffer[str]]\"\u001b[39;00m\n\u001b[0;32m   1216\u001b[0m \u001b[38;5;66;03m# , \"str\", \"bool\", \"Any\", \"Any\", \"Any\", \"Any\", \"Any\"\u001b[39;00m\n\u001b[1;32m-> 1217\u001b[0m \u001b[38;5;28mself\u001b[39m\u001b[38;5;241m.\u001b[39mhandles \u001b[38;5;241m=\u001b[39m \u001b[43mget_handle\u001b[49m\u001b[43m(\u001b[49m\u001b[43m  \u001b[49m\u001b[38;5;66;43;03m# type: ignore[call-overload]\u001b[39;49;00m\n\u001b[0;32m   1218\u001b[0m \u001b[43m    \u001b[49m\u001b[43mf\u001b[49m\u001b[43m,\u001b[49m\n\u001b[0;32m   1219\u001b[0m \u001b[43m    \u001b[49m\u001b[43mmode\u001b[49m\u001b[43m,\u001b[49m\n\u001b[0;32m   1220\u001b[0m \u001b[43m    \u001b[49m\u001b[43mencoding\u001b[49m\u001b[38;5;241;43m=\u001b[39;49m\u001b[38;5;28;43mself\u001b[39;49m\u001b[38;5;241;43m.\u001b[39;49m\u001b[43moptions\u001b[49m\u001b[38;5;241;43m.\u001b[39;49m\u001b[43mget\u001b[49m\u001b[43m(\u001b[49m\u001b[38;5;124;43m\"\u001b[39;49m\u001b[38;5;124;43mencoding\u001b[39;49m\u001b[38;5;124;43m\"\u001b[39;49m\u001b[43m,\u001b[49m\u001b[43m \u001b[49m\u001b[38;5;28;43;01mNone\u001b[39;49;00m\u001b[43m)\u001b[49m\u001b[43m,\u001b[49m\n\u001b[0;32m   1221\u001b[0m \u001b[43m    \u001b[49m\u001b[43mcompression\u001b[49m\u001b[38;5;241;43m=\u001b[39;49m\u001b[38;5;28;43mself\u001b[39;49m\u001b[38;5;241;43m.\u001b[39;49m\u001b[43moptions\u001b[49m\u001b[38;5;241;43m.\u001b[39;49m\u001b[43mget\u001b[49m\u001b[43m(\u001b[49m\u001b[38;5;124;43m\"\u001b[39;49m\u001b[38;5;124;43mcompression\u001b[39;49m\u001b[38;5;124;43m\"\u001b[39;49m\u001b[43m,\u001b[49m\u001b[43m \u001b[49m\u001b[38;5;28;43;01mNone\u001b[39;49;00m\u001b[43m)\u001b[49m\u001b[43m,\u001b[49m\n\u001b[0;32m   1222\u001b[0m \u001b[43m    \u001b[49m\u001b[43mmemory_map\u001b[49m\u001b[38;5;241;43m=\u001b[39;49m\u001b[38;5;28;43mself\u001b[39;49m\u001b[38;5;241;43m.\u001b[39;49m\u001b[43moptions\u001b[49m\u001b[38;5;241;43m.\u001b[39;49m\u001b[43mget\u001b[49m\u001b[43m(\u001b[49m\u001b[38;5;124;43m\"\u001b[39;49m\u001b[38;5;124;43mmemory_map\u001b[39;49m\u001b[38;5;124;43m\"\u001b[39;49m\u001b[43m,\u001b[49m\u001b[43m \u001b[49m\u001b[38;5;28;43;01mFalse\u001b[39;49;00m\u001b[43m)\u001b[49m\u001b[43m,\u001b[49m\n\u001b[0;32m   1223\u001b[0m \u001b[43m    \u001b[49m\u001b[43mis_text\u001b[49m\u001b[38;5;241;43m=\u001b[39;49m\u001b[43mis_text\u001b[49m\u001b[43m,\u001b[49m\n\u001b[0;32m   1224\u001b[0m \u001b[43m    \u001b[49m\u001b[43merrors\u001b[49m\u001b[38;5;241;43m=\u001b[39;49m\u001b[38;5;28;43mself\u001b[39;49m\u001b[38;5;241;43m.\u001b[39;49m\u001b[43moptions\u001b[49m\u001b[38;5;241;43m.\u001b[39;49m\u001b[43mget\u001b[49m\u001b[43m(\u001b[49m\u001b[38;5;124;43m\"\u001b[39;49m\u001b[38;5;124;43mencoding_errors\u001b[39;49m\u001b[38;5;124;43m\"\u001b[39;49m\u001b[43m,\u001b[49m\u001b[43m \u001b[49m\u001b[38;5;124;43m\"\u001b[39;49m\u001b[38;5;124;43mstrict\u001b[39;49m\u001b[38;5;124;43m\"\u001b[39;49m\u001b[43m)\u001b[49m\u001b[43m,\u001b[49m\n\u001b[0;32m   1225\u001b[0m \u001b[43m    \u001b[49m\u001b[43mstorage_options\u001b[49m\u001b[38;5;241;43m=\u001b[39;49m\u001b[38;5;28;43mself\u001b[39;49m\u001b[38;5;241;43m.\u001b[39;49m\u001b[43moptions\u001b[49m\u001b[38;5;241;43m.\u001b[39;49m\u001b[43mget\u001b[49m\u001b[43m(\u001b[49m\u001b[38;5;124;43m\"\u001b[39;49m\u001b[38;5;124;43mstorage_options\u001b[39;49m\u001b[38;5;124;43m\"\u001b[39;49m\u001b[43m,\u001b[49m\u001b[43m \u001b[49m\u001b[38;5;28;43;01mNone\u001b[39;49;00m\u001b[43m)\u001b[49m\u001b[43m,\u001b[49m\n\u001b[0;32m   1226\u001b[0m \u001b[43m\u001b[49m\u001b[43m)\u001b[49m\n\u001b[0;32m   1227\u001b[0m \u001b[38;5;28;01massert\u001b[39;00m \u001b[38;5;28mself\u001b[39m\u001b[38;5;241m.\u001b[39mhandles \u001b[38;5;129;01mis\u001b[39;00m \u001b[38;5;129;01mnot\u001b[39;00m \u001b[38;5;28;01mNone\u001b[39;00m\n\u001b[0;32m   1228\u001b[0m f \u001b[38;5;241m=\u001b[39m \u001b[38;5;28mself\u001b[39m\u001b[38;5;241m.\u001b[39mhandles\u001b[38;5;241m.\u001b[39mhandle\n",
      "File \u001b[1;32m~\\anaconda3\\lib\\site-packages\\pandas\\io\\common.py:789\u001b[0m, in \u001b[0;36mget_handle\u001b[1;34m(path_or_buf, mode, encoding, compression, memory_map, is_text, errors, storage_options)\u001b[0m\n\u001b[0;32m    784\u001b[0m \u001b[38;5;28;01melif\u001b[39;00m \u001b[38;5;28misinstance\u001b[39m(handle, \u001b[38;5;28mstr\u001b[39m):\n\u001b[0;32m    785\u001b[0m     \u001b[38;5;66;03m# Check whether the filename is to be opened in binary mode.\u001b[39;00m\n\u001b[0;32m    786\u001b[0m     \u001b[38;5;66;03m# Binary mode does not support 'encoding' and 'newline'.\u001b[39;00m\n\u001b[0;32m    787\u001b[0m     \u001b[38;5;28;01mif\u001b[39;00m ioargs\u001b[38;5;241m.\u001b[39mencoding \u001b[38;5;129;01mand\u001b[39;00m \u001b[38;5;124m\"\u001b[39m\u001b[38;5;124mb\u001b[39m\u001b[38;5;124m\"\u001b[39m \u001b[38;5;129;01mnot\u001b[39;00m \u001b[38;5;129;01min\u001b[39;00m ioargs\u001b[38;5;241m.\u001b[39mmode:\n\u001b[0;32m    788\u001b[0m         \u001b[38;5;66;03m# Encoding\u001b[39;00m\n\u001b[1;32m--> 789\u001b[0m         handle \u001b[38;5;241m=\u001b[39m \u001b[38;5;28;43mopen\u001b[39;49m\u001b[43m(\u001b[49m\n\u001b[0;32m    790\u001b[0m \u001b[43m            \u001b[49m\u001b[43mhandle\u001b[49m\u001b[43m,\u001b[49m\n\u001b[0;32m    791\u001b[0m \u001b[43m            \u001b[49m\u001b[43mioargs\u001b[49m\u001b[38;5;241;43m.\u001b[39;49m\u001b[43mmode\u001b[49m\u001b[43m,\u001b[49m\n\u001b[0;32m    792\u001b[0m \u001b[43m            \u001b[49m\u001b[43mencoding\u001b[49m\u001b[38;5;241;43m=\u001b[39;49m\u001b[43mioargs\u001b[49m\u001b[38;5;241;43m.\u001b[39;49m\u001b[43mencoding\u001b[49m\u001b[43m,\u001b[49m\n\u001b[0;32m    793\u001b[0m \u001b[43m            \u001b[49m\u001b[43merrors\u001b[49m\u001b[38;5;241;43m=\u001b[39;49m\u001b[43merrors\u001b[49m\u001b[43m,\u001b[49m\n\u001b[0;32m    794\u001b[0m \u001b[43m            \u001b[49m\u001b[43mnewline\u001b[49m\u001b[38;5;241;43m=\u001b[39;49m\u001b[38;5;124;43m\"\u001b[39;49m\u001b[38;5;124;43m\"\u001b[39;49m\u001b[43m,\u001b[49m\n\u001b[0;32m    795\u001b[0m \u001b[43m        \u001b[49m\u001b[43m)\u001b[49m\n\u001b[0;32m    796\u001b[0m     \u001b[38;5;28;01melse\u001b[39;00m:\n\u001b[0;32m    797\u001b[0m         \u001b[38;5;66;03m# Binary mode\u001b[39;00m\n\u001b[0;32m    798\u001b[0m         handle \u001b[38;5;241m=\u001b[39m \u001b[38;5;28mopen\u001b[39m(handle, ioargs\u001b[38;5;241m.\u001b[39mmode)\n",
      "\u001b[1;31mFileNotFoundError\u001b[0m: [Errno 2] No such file or directory: 'data/translated_data1.csv'"
     ]
    }
   ],
   "source": [
    "# Import pandas to load the data\n",
    "import pandas as pd\n",
    "\n",
    "# Load the first data set\n",
    "data1 = pd.read_csv(\"data/translated_data1.csv\")\n",
    "\n",
    "# Load the second data set\n",
    "data2 = pd.read_csv(\"data/translated_data2.csv\")"
   ]
  },
  {
   "cell_type": "markdown",
   "id": "c6658499",
   "metadata": {},
   "source": [
    "Now we can check how many respondents completed both surveys by looking for `hash` entries that appear in both data files.  "
   ]
  },
  {
   "cell_type": "code",
   "execution_count": null,
   "id": "4a4587df",
   "metadata": {},
   "outputs": [],
   "source": [
    "# Create a list of the hash ids that appear in both data files\n",
    "common_hash_ids = []\n",
    "\n",
    "# Append to the list using a loop\n",
    "for hash_id in data1['hash'].values:\n",
    "    if (hash_id in data2['hash'].values)==True:\n",
    "        common_hash_ids.append(hash_id)\n",
    "\n",
    "# Count the number of entries in the list\n",
    "len(common_hash_ids)"
   ]
  },
  {
   "cell_type": "markdown",
   "id": "ceb8143f",
   "metadata": {},
   "source": [
    "Based on the output, there are 7090 respondents who completed both surveys.  We shall create a data frame merging the data from both data files for each of those respondents."
   ]
  },
  {
   "cell_type": "code",
   "execution_count": null,
   "id": "021cab9a",
   "metadata": {},
   "outputs": [],
   "source": [
    "# Create the new data frame\n",
    "master_data = pd.merge(data1,\n",
    "                       data2, \n",
    "                       how='inner',\n",
    "                       on=\"hash\")\n",
    "\n",
    "# Show the new data frame\n",
    "master_data    "
   ]
  },
  {
   "cell_type": "markdown",
   "id": "025d1ed5",
   "metadata": {},
   "source": [
    "As expected, `master_data` has 7090 rows.\n",
    "\n",
    "## Renaming the columns in `data1`\n",
    "\n",
    "Now it would be helpful if the numbered columns from `data1` were replaced with their descriptions.  To do this we can scrape the table of the column descriptions from [the Kaggle page](https://www.kaggle.com/datasets/thedevastator/mental-health-in-drug-users-during-covid-19)."
   ]
  },
  {
   "cell_type": "code",
   "execution_count": null,
   "id": "db56661c",
   "metadata": {
    "scrolled": false
   },
   "outputs": [],
   "source": [
    "# Import BeautifulSoup to scrape data \n",
    "from bs4 import BeautifulSoup\n",
    "\n",
    "# Import requests to get the html\n",
    "import requests\n",
    "\n",
    "# This is the url for the html we want\n",
    "kaggle_url = \"https://www.kaggle.com/datasets/thedevastator/mental-health-in-drug-users-during-covid-19\"\n",
    "\n",
    "# Request the html code and assign it to a variable\n",
    "kaggle_html = requests.get(kaggle_url)\n",
    "\n",
    "# Make a BeautifulSoup object\n",
    "kaggle_soup = BeautifulSoup(kaggle_html.content)\n",
    "\n",
    "# Show the html\n",
    "print(kaggle_soup.prettify())"
   ]
  },
  {
   "cell_type": "markdown",
   "id": "56131dc9",
   "metadata": {},
   "source": [
    "The table appears twice, in the head element and in the body element.  It happens to occur in the first `script` element in the body.  "
   ]
  },
  {
   "cell_type": "code",
   "execution_count": null,
   "id": "9fbfb2b3",
   "metadata": {},
   "outputs": [],
   "source": [
    "# Finds the html element that contains the table\n",
    "kaggle_table = kaggle_soup.body.find('script').text # Turns the html into a string\n",
    "kaggle_table"
   ]
  },
  {
   "cell_type": "markdown",
   "id": "484e66e7",
   "metadata": {},
   "source": [
    "The table is made using Markdown.  To extract it from the html element, we can use the split function to separate each row of the table by the string `|\\\\n`.  Note that the original html only had one backslash, but when we turned the html into a string an escape character was added."
   ]
  },
  {
   "cell_type": "code",
   "execution_count": null,
   "id": "91164f7d",
   "metadata": {
    "scrolled": false
   },
   "outputs": [],
   "source": [
    "# Use \"|\\\\n\" to split the html according to the rows of the table\n",
    "kaggle_strings = kaggle_table.split(\"|\\\\n\")\n",
    "kaggle_strings"
   ]
  },
  {
   "cell_type": "markdown",
   "id": "4dc3e7d4",
   "metadata": {},
   "source": [
    "Now we have a list of strings that includes each line of the table, but we don't want the first two strings or the last one, so we can get rid of them."
   ]
  },
  {
   "cell_type": "code",
   "execution_count": null,
   "id": "f1b129a8",
   "metadata": {},
   "outputs": [],
   "source": [
    "# Indices of the unwanted strings\n",
    "unwanted = [0,1,len(kaggle_strings)-1]\n",
    "\n",
    "# Delete the unwanted strings\n",
    "for kaggle_strings_index in sorted(unwanted, \n",
    "                                   reverse=True): # It's good practice to delete the highest indices first, so we reverse the order of the indices\n",
    "    del kaggle_strings[kaggle_strings_index]\n",
    "kaggle_strings"
   ]
  },
  {
   "cell_type": "markdown",
   "id": "8b2079aa",
   "metadata": {},
   "source": [
    "Now that we've isolated the rows of the table we need to separate the two columns."
   ]
  },
  {
   "cell_type": "code",
   "execution_count": null,
   "id": "a553d9d6",
   "metadata": {},
   "outputs": [],
   "source": [
    "# Initialize the column lists\n",
    "numbered_columns = []\n",
    "descriptions = []\n",
    "\n",
    "# Split the strings into two strings, the first goes into one column and the second goes into the other\n",
    "for line in kaggle_strings:\n",
    "    split_line = line.split(\" | \")\n",
    "    numbered_columns.append(split_line[0])\n",
    "    descriptions.append(split_line[1])\n",
    "\n",
    "# Show the first column    \n",
    "numbered_columns"
   ]
  },
  {
   "cell_type": "code",
   "execution_count": null,
   "id": "334cb687",
   "metadata": {},
   "outputs": [],
   "source": [
    "# Show the second column\n",
    "descriptions"
   ]
  },
  {
   "cell_type": "markdown",
   "id": "a4140eb3",
   "metadata": {},
   "source": [
    "Now we need to make the columns in `numbered_columns` match the columns in `master_data`.  We can use the `split` function again."
   ]
  },
  {
   "cell_type": "code",
   "execution_count": null,
   "id": "76bca103",
   "metadata": {},
   "outputs": [],
   "source": [
    "# Rename the entries in numbered_columns\n",
    "for entry in numbered_columns:\n",
    "    entry_index = numbered_columns.index(entry)\n",
    "    split_entry = entry.split(\"**\")\n",
    "    entry = split_entry[1]\n",
    "    numbered_columns[entry_index] = entry\n",
    "numbered_columns    "
   ]
  },
  {
   "cell_type": "markdown",
   "id": "e6aacb3b",
   "metadata": {},
   "source": [
    "Now make a loop that will change the column names in `master_data`."
   ]
  },
  {
   "cell_type": "code",
   "execution_count": null,
   "id": "33379137",
   "metadata": {},
   "outputs": [],
   "source": [
    "# Change the names of the columns in master_data\n",
    "for heading in numbered_columns:\n",
    "    if heading in master_data.columns.values.tolist():\n",
    "        heading_index = numbered_columns.index(heading)\n",
    "        master_data.rename(columns={heading:descriptions[heading_index]},\n",
    "                          inplace=True)\n",
    "master_data.columns.values.tolist()        "
   ]
  },
  {
   "cell_type": "markdown",
   "id": "e98d1c8e",
   "metadata": {},
   "source": [
    "We've used all the information from Kaggle to make the column names more descriptive, but it's still not perfect.  There are still many numbered columns with no description and many of the columns extracted from `data2` have titles that are not descriptive enough.  The next step is to delete unwanted columns.  This is done in the notebook [CleaningAndPreprocessingII](CleaningAndPreprocessingII.ipynb).\n",
    "\n",
    "The last step in this notebook is to save the `master_data` to a file to call in the next notebook."
   ]
  },
  {
   "cell_type": "code",
   "execution_count": null,
   "id": "147c98e5",
   "metadata": {},
   "outputs": [],
   "source": [
    "# Save master_data to a csv file\n",
    "master_data.to_csv(\"data/master_data.csv\")"
   ]
  }
 ],
 "metadata": {
  "kernelspec": {
   "display_name": "Python 3 (ipykernel)",
   "language": "python",
   "name": "python3"
  },
  "language_info": {
   "codemirror_mode": {
    "name": "ipython",
    "version": 3
   },
   "file_extension": ".py",
   "mimetype": "text/x-python",
   "name": "python",
   "nbconvert_exporter": "python",
   "pygments_lexer": "ipython3",
   "version": "3.9.12"
  }
 },
 "nbformat": 4,
 "nbformat_minor": 5
}
