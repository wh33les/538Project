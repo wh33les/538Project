{
 "cells": [
  {
   "cell_type": "markdown",
   "id": "9ff45c00",
   "metadata": {},
   "source": [
    "# Cleaning and preprocessing II\n",
    "\n",
    "In this notebook we continue to clean the data from [Kaggle](https://www.kaggle.com/datasets/thedevastator/mental-health-in-drug-users-during-covid-19).  In the notebook [ProblemStatementStakeholdersKPIs](ProblemStatementStakeholdersKPIs.ipynb) we translated the Spanish columns in both data sets to English.  In [CleaningAndPreprocessingI](CleaningAndPreprocessingI.ipynb) we merged the data from the two files, according to the identifier `hash`, and then we used the descriptions of the columns in the first data file to rename them.  Then we created a file `master_data.csv` with these changes.\n",
    "\n",
    "The next steps in cleaning the data are to:\n",
    "* Delete the useless or meaningless columns in `master_data.csv` or change the names of columns to make them more concise.\n",
    "* Scale the responses so that higher entries correspond to better mental health outcomes for all columns."
   ]
  },
  {
   "cell_type": "code",
   "execution_count": null,
   "id": "88e9370a",
   "metadata": {},
   "outputs": [],
   "source": [
    "# Load pandas and the data\n",
    "import pandas as pd\n",
    "master_data = pd.read_csv(\"data/master_data.csv\")"
   ]
  },
  {
   "cell_type": "markdown",
   "id": "c852afbb",
   "metadata": {},
   "source": [
    "## Deleting or renaming columns\n",
    "\n",
    "There is no straightforward way to efficiently delete or rename the columns in `master_data` because different columns need to be deleted or renamed for different reasons, some of which are subjective."
   ]
  },
  {
   "cell_type": "code",
   "execution_count": null,
   "id": "daf43aab",
   "metadata": {},
   "outputs": [],
   "source": [
    "# Count the number of columns\n",
    "columns = master_data.columns.values.tolist()\n",
    "len(columns)"
   ]
  },
  {
   "cell_type": "markdown",
   "id": "688786cd",
   "metadata": {},
   "source": [
    "There are 198 columns to go through so examining each one will take a long time.  One idea to save some time is to build a loop with user inputs about each column, namely the choice to delete or rename it."
   ]
  },
  {
   "cell_type": "code",
   "execution_count": null,
   "id": "4c359571",
   "metadata": {},
   "outputs": [],
   "source": [
    "# Show the current columns of master_data\n",
    "columns"
   ]
  },
  {
   "cell_type": "markdown",
   "id": "1c61c8d0",
   "metadata": {},
   "source": [
    "The loop will edit a lot about `master_data` at once so it's good to have a backup before making such drastic changes."
   ]
  },
  {
   "cell_type": "code",
   "execution_count": null,
   "id": "b269a341",
   "metadata": {},
   "outputs": [],
   "source": [
    "# Back up master_data\n",
    "master_data_cleaned = master_data.copy()"
   ]
  },
  {
   "cell_type": "markdown",
   "id": "8836e10f",
   "metadata": {},
   "source": [
    "The following block of code is to keep an eye on the columns of the copied data frame while debugging the loop:"
   ]
  },
  {
   "cell_type": "code",
   "execution_count": null,
   "id": "e4520248",
   "metadata": {},
   "outputs": [],
   "source": [
    "# Show the column names from the new data frame\n",
    "new_columns = master_data_cleaned.columns.values.tolist()\n",
    "new_columns"
   ]
  },
  {
   "cell_type": "markdown",
   "id": "7ade9546",
   "metadata": {},
   "source": [
    "Now the loop that will change the columns:"
   ]
  },
  {
   "cell_type": "code",
   "execution_count": null,
   "id": "c041467c",
   "metadata": {},
   "outputs": [],
   "source": [
    "# Loop that will prompt me to delete or rename each column\n",
    "for i in sorted(list(range(0,len(columns))), \n",
    "                reverse=True):\n",
    "    # Prompt to delete\n",
    "    print(\"Column index:\",i)\n",
    "    print(\"Column name:\",columns[i])\n",
    "    delete_choice = input(\"Delete column (y or n)?  \")\n",
    "    # Make sure the input is valid\n",
    "    while ((delete_choice != \"y\") and (delete_choice != \"n\")):\n",
    "                          delete_choice = input(\"Enter y or n.  \")\n",
    "    # Delete if yes\n",
    "    if (delete_choice == \"y\"):  \n",
    "                          del master_data_cleaned[columns[i]]\n",
    "                          print()  \n",
    "    # Prompt to rename if no\n",
    "    if (delete_choice == \"n\"):\n",
    "                          rename_choice = input(\"Rename the column (y or n)?  \")\n",
    "                          # Make sure the input is valid\n",
    "                          while ((rename_choice != \"y\") and (rename_choice != \"n\")):\n",
    "                              rename_choice = input(\"Enter y or n.  \")\n",
    "                          # Rename if yes\n",
    "                          if (rename_choice == \"y\"):\n",
    "                                new_name = input(\"Enter the new name: \")\n",
    "                                master_data_cleaned.rename(columns = {columns[i]:new_name})\n",
    "                                # Verify the name was changed\n",
    "                                master_index = master_data_cleaned.columns.index(columns[i])\n",
    "                                print(\"Now new_columns[\",master_index,\"] = \",new_columns[master_index]+\".\")\n",
    "                                print()\n",
    "                          # Pass if no\n",
    "                          if (rename_choice == \"n\"):\n",
    "                                print()\n",
    "                                pass                          "
   ]
  }
 ],
 "metadata": {
  "kernelspec": {
   "display_name": "Python 3 (ipykernel)",
   "language": "python",
   "name": "python3"
  },
  "language_info": {
   "codemirror_mode": {
    "name": "ipython",
    "version": 3
   },
   "file_extension": ".py",
   "mimetype": "text/x-python",
   "name": "python",
   "nbconvert_exporter": "python",
   "pygments_lexer": "ipython3",
   "version": "3.9.12"
  }
 },
 "nbformat": 4,
 "nbformat_minor": 5
}
