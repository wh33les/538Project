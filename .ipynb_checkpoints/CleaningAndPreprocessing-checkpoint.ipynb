{
 "cells": [
  {
   "cell_type": "markdown",
   "id": "b279f162",
   "metadata": {},
   "source": [
    "# Cleaning and exploratory data analysis\n",
    "\n",
    "The associated [Zenodo](https://zenodo.org/record/4324025#.Y_-XSXbMK3B) page says ~5000 respondents completed both surveys, so the first step is to try to find the identifier associated to each respondent and construct a new file that has all the data from both files for each respondent."
   ]
  },
  {
   "cell_type": "code",
   "execution_count": 1,
   "id": "89b22e37",
   "metadata": {},
   "outputs": [],
   "source": [
    "# Import pandas to load the data\n",
    "import pandas as pd\n",
    "\n",
    "# Load the first data set\n",
    "data1 = pd.read_csv(\"ocean157ksafe.csv\")\n",
    "\n",
    "# Load the second data set\n",
    "data2 = pd.read_csv(\"concienciaysustancia10k7safe.csv\")\n",
    "\n",
    "# Translate the columns from each file to English, this time overwriting the data files instead of creating new ones\n",
    "\n",
    "# There are only a few columns in the first data file that need translating\n",
    "data1.rename(columns={\"2_edad\":\"2_age\", \n",
    "                      \"2_genero\":\"2_gender\",\n",
    "                      \"2_nacionalidad\":\"2_nationality\",\n",
    "                      \"2_pais_actual\":\"2_current_country\"},\n",
    "            inplace=True)\n",
    "\n",
    "# Use a loop to translate the columns from data2\n",
    "from googletrans import Translator\n",
    "translator = Translator()\n",
    "for spanish_name in data2.columns.values.tolist():\n",
    "    to_english = translator.translate(spanish_name)\n",
    "    data2.rename(columns={spanish_name:to_english.text}, \n",
    "                 inplace=True) \n",
    "\n",
    "# Translate the columns that the loop couldn't translate\n",
    "data2.rename(columns={\"2_programa_microdosificacion\":\"2_microdosing_program\", \n",
    "                      \"6_psychoactive_cosumidos\":\"6_psychoactives_consumed\",\n",
    "                      \"9_feliz\":\"9_happy\",\n",
    "                      \"11_encaro_oblicaciones_sin_problemas\":\"11_face_obligations_without_problems\"},\n",
    "            inplace=True)"
   ]
  },
  {
   "cell_type": "markdown",
   "id": "c6658499",
   "metadata": {},
   "source": [
    "Both data files have a column called \"hash\", that may be the identifier for each respondent.  We can check this by seeing if any of the hash values from `data1` appear in `data2`."
   ]
  },
  {
   "cell_type": "code",
   "execution_count": 11,
   "id": "4a4587df",
   "metadata": {},
   "outputs": [
    {
     "data": {
      "text/plain": [
       "7090"
      ]
     },
     "execution_count": 11,
     "metadata": {},
     "output_type": "execute_result"
    }
   ],
   "source": [
    "# Create a list of the hash ids that appear in both data files\n",
    "common_hash_ids = []\n",
    "\n",
    "# Append to the list using a loop\n",
    "for hash_id in data1['hash'].values:\n",
    "    if (hash_id in data2['hash'].values)==True:\n",
    "        common_hash_ids.append(hash_id)\n",
    "\n",
    "# Count the number of entries in the list\n",
    "len(common_hash_ids)"
   ]
  },
  {
   "cell_type": "code",
   "execution_count": null,
   "id": "2733cb6a",
   "metadata": {},
   "outputs": [],
   "source": []
  }
 ],
 "metadata": {
  "kernelspec": {
   "display_name": "Python 3 (ipykernel)",
   "language": "python",
   "name": "python3"
  },
  "language_info": {
   "codemirror_mode": {
    "name": "ipython",
    "version": 3
   },
   "file_extension": ".py",
   "mimetype": "text/x-python",
   "name": "python",
   "nbconvert_exporter": "python",
   "pygments_lexer": "ipython3",
   "version": "3.9.12"
  }
 },
 "nbformat": 4,
 "nbformat_minor": 5
}
