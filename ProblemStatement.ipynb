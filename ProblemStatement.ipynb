{
 "cells": [
  {
   "cell_type": "markdown",
   "id": "d3785f97",
   "metadata": {},
   "source": [
    "# Problem statement\n",
    "\n",
    "## Question\n",
    "\n",
    "How can [fivethirtyeight.com/politics](https://fivethirtyeight.com/politics/) get more traffic to their articles, without compromising their political neutrality and reputation for factually correct content?\n",
    "\n",
    "## Background\n",
    "\n",
    "\n",
    "\n",
    "# Stakeholders\n",
    "\n",
    "News has become more polarized and sensationalized in recent years, all in the name of more clicks.  This data analysis could provide some insight into what kind of articles get more traffic, without news organizations having to sacrifice their integrity.\n",
    "\n",
    "\n",
    "# Key performance indicators (KPIs)\n",
    "\n",
    "- Number of comments an article gets, relative to how long it's been posted"
   ]
  },
  {
   "cell_type": "markdown",
   "id": "8204bc9e",
   "metadata": {},
   "source": [
    "# Data gathering\n",
    "\n",
    "We scrape headlines from the [Five Thirty Eight politics features pages](https://fivethirtyeight.com/politics/features/) from the year to date.  For each headline, we store the title, author, date, tags, and number of comments."
   ]
  },
  {
   "cell_type": "code",
   "execution_count": null,
   "id": "ee28c9f0",
   "metadata": {},
   "outputs": [],
   "source": []
  }
 ],
 "metadata": {
  "kernelspec": {
   "display_name": "Python 3 (ipykernel)",
   "language": "python",
   "name": "python3"
  },
  "language_info": {
   "codemirror_mode": {
    "name": "ipython",
    "version": 3
   },
   "file_extension": ".py",
   "mimetype": "text/x-python",
   "name": "python",
   "nbconvert_exporter": "python",
   "pygments_lexer": "ipython3",
   "version": "3.9.12"
  }
 },
 "nbformat": 4,
 "nbformat_minor": 5
}
